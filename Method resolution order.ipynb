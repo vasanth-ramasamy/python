{
 "cells": [
  {
   "cell_type": "code",
   "execution_count": 1,
   "metadata": {},
   "outputs": [
    {
     "name": "stdout",
     "output_type": "stream",
     "text": [
      "Q2-bar\n",
      "Help on class GC in module __main__:\n",
      "\n",
      "class GC(P2, Q2)\n",
      " |  Method resolution order:\n",
      " |      GC\n",
      " |      P2\n",
      " |      Q2\n",
      " |      P1\n",
      " |      Q1\n",
      " |      __builtin__.object\n",
      " |  \n",
      " |  Methods inherited from Q2:\n",
      " |  \n",
      " |  bar(self)\n",
      " |  \n",
      " |  ----------------------------------------------------------------------\n",
      " |  Methods inherited from P1:\n",
      " |  \n",
      " |  foo(self)\n",
      " |  \n",
      " |  ----------------------------------------------------------------------\n",
      " |  Data descriptors inherited from P1:\n",
      " |  \n",
      " |  __dict__\n",
      " |      dictionary for instance variables (if defined)\n",
      " |  \n",
      " |  __weakref__\n",
      " |      list of weak references to the object (if defined)\n",
      "\n",
      "None\n"
     ]
    }
   ],
   "source": [
    "class P1(object):\n",
    "    def foo(self):\n",
    "        print \"P1-foo\"\n",
    "    \n",
    "    def bar(self):\n",
    "        print \"P1-bar\"\n",
    "\n",
    "class Q1(object):\n",
    "    pass\n",
    "\n",
    "class P2 (P1,Q1):\n",
    "    pass\n",
    "\n",
    "class Q2(P1,Q1):\n",
    "    def bar(self):\n",
    "        print \"Q2-bar\"\n",
    "\n",
    "class GC(P2,Q2):\n",
    "    pass\n",
    "\n",
    "gc = GC()\n",
    "gc.bar()\n",
    "print help(GC)"
   ]
  },
  {
   "cell_type": "code",
   "execution_count": null,
   "metadata": {},
   "outputs": [],
   "source": [
    "class P1:\n",
    "    def foo(self):\n",
    "        print \"P1-foo\"\n",
    "    \n",
    "    def bar(self):\n",
    "        print \"P1-bar\"\n",
    "\n",
    "class Q1:\n",
    "    pass\n",
    "\n",
    "class P2 (P1,Q1):\n",
    "    pass\n",
    "\n",
    "class Q2(P1,Q1):\n",
    "    def bar(self):\n",
    "        print \"Q2-bar\"\n",
    "\n",
    "class GC(P2,Q2):\n",
    "    pass\n",
    "\n",
    "gc = GC()\n",
    "gc.bar()\n",
    "print help(GC)"
   ]
  }
 ],
 "metadata": {
  "kernelspec": {
   "display_name": "Python 2",
   "language": "python",
   "name": "python2"
  },
  "language_info": {
   "codemirror_mode": {
    "name": "ipython",
    "version": 2
   },
   "file_extension": ".py",
   "mimetype": "text/x-python",
   "name": "python",
   "nbconvert_exporter": "python",
   "pygments_lexer": "ipython2",
   "version": "2.7.14"
  }
 },
 "nbformat": 4,
 "nbformat_minor": 2
}
