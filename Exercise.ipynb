{
 "cells": [
  {
   "cell_type": "code",
   "execution_count": 1,
   "metadata": {},
   "outputs": [
    {
     "name": "stdout",
     "output_type": "stream",
     "text": [
      "[1, 2, 'BuzzFiz', 4, 'Buzz', 'BuzzFiz', 7, 8, 'BuzzFiz', 'Buzz', 11, 'BuzzFiz', 13, 14, 'BuzzFiz', 16, 17, 'BuzzFiz', 19, 'Buzz', 'BuzzFiz', 22, 23, 'BuzzFiz', 'Buzz', 26, 'BuzzFiz', 28, 29, 'BuzzFiz', 31, 32, 'BuzzFiz', 34, 'Buzz', 'BuzzFiz', 37, 38, 'BuzzFiz', 'Buzz', 41, 'BuzzFiz', 43, 44, 'BuzzFiz', 46, 47, 'BuzzFiz', 49, 'Buzz', 'BuzzFiz', 52, 53, 'BuzzFiz', 'Buzz', 56, 'BuzzFiz', 58, 59, 'BuzzFiz', 61, 62, 'BuzzFiz', 64, 'Buzz', 'BuzzFiz', 67, 68, 'BuzzFiz', 'Buzz', 71, 'BuzzFiz', 73, 74, 'BuzzFiz', 76, 77, 'BuzzFiz', 79, 'Buzz', 'BuzzFiz', 82, 83, 'BuzzFiz', 'Buzz', 86, 'BuzzFiz', 88, 89, 'BuzzFiz', 91, 92, 'BuzzFiz', 94, 'Buzz', 'BuzzFiz', 97, 98, 'BuzzFiz']\n"
     ]
    }
   ],
   "source": [
    "#Write a program that prints the integers from 1 to 100. \n",
    "#But for multiples of three print \"Fizz\" instead of the number\n",
    "#and for the multiples of five print \"Buzz\". \n",
    "#For numbers which are multiples of both three and five print \"FizzBuzz\".\n",
    "\n",
    "list8 = []\n",
    "for x in range (1,100):\n",
    "    if x%3 == 0 & x%5==0:\n",
    "            list8.append('BuzzFiz')\n",
    "    elif x%3 == 0:\n",
    "        list8.append('Fizz')\n",
    "    elif x%5 == 0:\n",
    "            list8.append('Buzz')\n",
    "    else:\n",
    "        list8.append(x)\n",
    "print list8"
   ]
  },
  {
   "cell_type": "code",
   "execution_count": 2,
   "metadata": {},
   "outputs": [
    {
     "name": "stdout",
     "output_type": "stream",
     "text": [
      "[1, 2, 'Fizz', 4, 'BUZZ', 'Fizz', 7, 8, 'Fizz', 'BUZZ', 11, 'Fizz', 13, 14, 'Fizz', 16, 17, 'Fizz', 19, 'BUZZ', 'Fizz', 22, 23, 'Fizz', 'BUZZ', 26, 'Fizz', 28, 29, 'Fizz', 31, 32, 'Fizz', 34, 'BUZZ', 'Fizz', 37, 38, 'Fizz', 'BUZZ', 41, 'Fizz', 43, 44, 'Fizz', 46, 47, 'Fizz', 49, 'BUZZ', 'Fizz', 52, 53, 'Fizz', 'BUZZ', 56, 'Fizz', 58, 59, 'Fizz', 61, 62, 'Fizz', 64, 'BUZZ', 'Fizz', 67, 68, 'Fizz', 'BUZZ', 71, 'Fizz', 73, 74, 'Fizz', 76, 77, 'Fizz', 79, 'BUZZ', 'Fizz', 82, 83, 'Fizz', 'BUZZ', 86, 'Fizz', 88, 89, 'Fizz', 91, 92, 'Fizz', 94, 'BUZZ', 'Fizz', 97, 98, 'Fizz']\n",
      "[1, 2, 'Fizz', 3, 4, 'Buzz', 'Fizz', 6, 7, 8, 'Fizz', 9, 'Buzz', 11, 'Fizz', 12, 13, 14, 'BuzzFiz', 'Fizz', 'Buzz', 16, 17, 'Fizz', 18, 19, 'Buzz', 'Fizz', 21, 22, 23, 'Fizz', 24, 'Buzz', 26, 'Fizz', 27, 28, 29, 'BuzzFiz', 'Fizz', 'Buzz', 31, 32, 'Fizz', 33, 34, 'Buzz', 'Fizz', 36, 37, 38, 'Fizz', 39, 'Buzz', 41, 'Fizz', 42, 43, 44, 'BuzzFiz', 'Fizz', 'Buzz', 46, 47, 'Fizz', 48, 49, 'Buzz', 'Fizz', 51, 52, 53, 'Fizz', 54, 'Buzz', 56, 'Fizz', 57, 58, 59, 'BuzzFiz', 'Fizz', 'Buzz', 61, 62, 'Fizz', 63, 64, 'Buzz', 'Fizz', 66, 67, 68, 'Fizz', 69, 'Buzz', 71, 'Fizz', 72, 73, 74, 'BuzzFiz', 'Fizz', 'Buzz', 76, 77, 'Fizz', 78, 79, 'Buzz', 'Fizz', 81, 82, 83, 'Fizz', 84, 'Buzz', 86, 'Fizz', 87, 88, 89, 'BuzzFiz', 'Fizz', 'Buzz', 91, 92, 'Fizz', 93, 94, 'Buzz', 'Fizz', 96, 97, 98, 'Fizz', 99]\n",
      "['C', 'a', 'l', 'o', 't', 'f', 'l', 'o', 'e', 'w', 'i', 't', 's']\n",
      "['C', 'a', 'l', 'o', 't', 'f', 'l', 'o', 'e', 'w', 'i', 't', 's']\n"
     ]
    }
   ],
   "source": [
    "#Write a program that prints the integers from 1 to 100. \n",
    "#But for multiples of three print \"Fizz\" instead of the number\n",
    "#and for the multiples of five print \"Buzz\". \n",
    "\n",
    "list7 = []\n",
    "for x in range(1,100):\n",
    "    if x%3 == 0:\n",
    "        list7.append('Fizz')\n",
    "    elif x%5 == 0:\n",
    "        list7.append(\"BUZZ\")\n",
    "    else:\n",
    "        list7.append(x)\n",
    "print list7\n",
    "\n",
    "list8 = []\n",
    "for x in range (1,100):\n",
    "    if x%3 == 0:\n",
    "        if x%5==0:\n",
    "            list8.append('BuzzFiz')\n",
    "    if x%3 == 0:\n",
    "        list8.append('Fizz')\n",
    "    if x%5 == 0:\n",
    "            list8.append('Buzz')\n",
    "    else:\n",
    "        list8.append(x)\n",
    "print list8\n",
    "\n",
    "\n",
    "# create a list of the first letters of every word in the string below:\n",
    "\n",
    "stst  =  'Create a list of the first letters of every word in this string'\n",
    "list9 = []\n",
    "stst1 = stst.split(' ')\n",
    "for x in stst1:\n",
    "    list9.append(x[0])\n",
    "    \n",
    "print list9        \n",
    "\n",
    "\n",
    "#Use List Comprehension to create a list of the first letters of every word in the string below:\n",
    "stst  =  'Create a list of the first letters of every word in this string'\n",
    "list11 =  [x[0] for x in stst.split(' ') ]\n",
    "print list11\n"
   ]
  },
  {
   "cell_type": "code",
   "execution_count": 3,
   "metadata": {},
   "outputs": [
    {
     "name": "stdout",
     "output_type": "stream",
     "text": [
      "['start', 's', 'sentence']\n",
      "[0, 2, 4, 6, 8]\n",
      "[3, 6, 9, 12, 15, 18, 21, 24, 27, 30, 33, 36, 39, 42, 45, 48]\n",
      "[3, 6, 9, 12, 15, 18, 21, 24, 27, 30, 33, 36, 39, 42, 45, 48]\n",
      "['word', 'in', 'this', 'sentence', 'that', 'an', 'even', 'number', 'of']\n",
      "9\n"
     ]
    }
   ],
   "source": [
    "#Use for, split(), and if to create a Statement that will print out words that start with 's'\n",
    "st = 'Print only the words that start with s in this sentence'\n",
    "st1 = st.split()\n",
    "list1 = []\n",
    "for text in st1:\n",
    "    if text.startswith('s'):\n",
    "        list1.append(text)\n",
    "print list1\n",
    "\n",
    "\n",
    "#Use range() to print all the even numbers from 0 to 10\n",
    "list2 = []\n",
    "for x in range(0,10,2):\n",
    "    list2.append(x)\n",
    "print list2\n",
    "    \n",
    "#list of all numbers between 1 and 50 that are divisible by 3\n",
    "list3 = []\n",
    "for x in range(1,50):\n",
    "    if x%3 == 0:\n",
    "        list3.append(x)\n",
    "print list3\n",
    "\n",
    "#Use List comprehension to create a list of all numbers between 1 and 50 that are divisible by 3\n",
    "list4 = [x for x in range(1,50) if x%3 == 0]\n",
    "print list4\n",
    "\n",
    "#Go through the string below and if the length of a word is even print \"even!\"\n",
    "st = 'Print every word in this sentence that has an even number of letters'\n",
    "st1 = st.split()\n",
    "list4 = []\n",
    "count = 0\n",
    "for x in st1:\n",
    "    if len(x)%2 == 0:\n",
    "        list4.append(x)\n",
    "        count += 1\n",
    "print list4\n",
    "print count"
   ]
  },
  {
   "cell_type": "code",
   "execution_count": null,
   "metadata": {},
   "outputs": [],
   "source": []
  }
 ],
 "metadata": {
  "kernelspec": {
   "display_name": "Python 2",
   "language": "python",
   "name": "python2"
  },
  "language_info": {
   "codemirror_mode": {
    "name": "ipython",
    "version": 2
   },
   "file_extension": ".py",
   "mimetype": "text/x-python",
   "name": "python",
   "nbconvert_exporter": "python",
   "pygments_lexer": "ipython2",
   "version": "2.7.14"
  }
 },
 "nbformat": 4,
 "nbformat_minor": 2
}
