{
 "cells": [
  {
   "cell_type": "code",
   "execution_count": 1,
   "metadata": {},
   "outputs": [
    {
     "name": "stdout",
     "output_type": "stream",
     "text": [
      "{'country': 'INDIA', 'age': '37', 'state': 'karnataka', 'name': 'Ravi'}\n",
      "{'country': 'INDIA', 'age': '37', 'state': 'karnataka', 'name': 'Ravi'}\n",
      "Name: Ravi, Age: 37, State: karnataka, Country: INDIA\n"
     ]
    }
   ],
   "source": [
    "class Country(object):\n",
    "    def __init__(self,*args, **kwargs):\n",
    "        self.country = kwargs['country']\n",
    "    \n",
    "    def display(self):\n",
    "        print self.country\n",
    "        \n",
    "class State(Country):\n",
    "    def __init__(self, *args, **kwargs):\n",
    "        super(State,self).__init__(**kwargs)\n",
    "        print kwargs\n",
    "        self.state = kwargs['state']\n",
    "\n",
    "class Person(State):\n",
    "    def __init__(self, *args, **kwargs):\n",
    "        super(Person, self).__init__(**kwargs)\n",
    "        print kwargs\n",
    "        self.name = kwargs['name']\n",
    "        self.age = kwargs['age']\n",
    "        \n",
    "    def display(self):\n",
    "        print \"Name: %s, Age: %s, State: %s, Country: %s\" %(self.name, self.age, self.state, self.country)\n",
    "\n",
    "person1 = Person(name = \"Ravi\", state =\"karnataka\", country = \"INDIA\", age = \"37\")\n",
    "person1.display()"
   ]
  },
  {
   "cell_type": "code",
   "execution_count": null,
   "metadata": {},
   "outputs": [],
   "source": []
  }
 ],
 "metadata": {
  "kernelspec": {
   "display_name": "Python 2",
   "language": "python",
   "name": "python2"
  },
  "language_info": {
   "codemirror_mode": {
    "name": "ipython",
    "version": 2
   },
   "file_extension": ".py",
   "mimetype": "text/x-python",
   "name": "python",
   "nbconvert_exporter": "python",
   "pygments_lexer": "ipython2",
   "version": "2.7.14"
  }
 },
 "nbformat": 4,
 "nbformat_minor": 2
}
