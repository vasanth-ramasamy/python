{
 "cells": [
  {
   "cell_type": "code",
   "execution_count": 4,
   "metadata": {},
   "outputs": [
    {
     "name": "stdout",
     "output_type": "stream",
     "text": [
      "2 is a even number\n"
     ]
    }
   ],
   "source": [
    "# Check whether a number is even or odd\n",
    "# A nember is even if division by 2 give a reminder of 0\n",
    "#If reminder is 1, then its a odd number\n",
    "x = 2\n",
    "if x%2 == 0:\n",
    "    print (\"%s is a even number\" %x)\n",
    "else:\n",
    "    print (\"%s is a ODD number\" %x)"
   ]
  },
  {
   "cell_type": "code",
   "execution_count": 6,
   "metadata": {},
   "outputs": [
    {
     "name": "stdout",
     "output_type": "stream",
     "text": [
      "Enter a number3\n",
      "3 is odd number\n"
     ]
    }
   ],
   "source": [
    "#Check whether a number is even or odd by providing runtime input\n",
    "num = int(input(\"Enter a number\"))\n",
    "if num%2 != 0:\n",
    "    print (\"%s is odd number\" %num)\n",
    "else:\n",
    "    print (\"%s is a even number\" %num)"
   ]
  },
  {
   "cell_type": "code",
   "execution_count": 62,
   "metadata": {},
   "outputs": [
    {
     "name": "stdout",
     "output_type": "stream",
     "text": [
      "malayalaM is not palaidrome\n"
     ]
    }
   ],
   "source": [
    "#check whetehr a string is a palidrome or not\n",
    "string1 = \"malayalaM\"\n",
    "rev_string1 = reversed(string1)\n",
    "#if list(string1) == list(rev_string1):\n",
    "if string_1 == rev_string1:\n",
    "    print (\"%s is  palaidrome\" %string1)\n",
    "else:\n",
    "    print (\"%s is not palaidrome\" %string1)"
   ]
  },
  {
   "cell_type": "code",
   "execution_count": 61,
   "metadata": {},
   "outputs": [
    {
     "name": "stdout",
     "output_type": "stream",
     "text": [
      "malayalam is  palaidrome\n"
     ]
    }
   ],
   "source": [
    "#check whetehr a string is a palidrome or not by ignoring the case\n",
    "string = \"malayalaM\"\n",
    "string1 = string.lower()\n",
    "rev_string1 = string1[::-1]\n",
    "if list(string1) == list(rev_string1):\n",
    "    print (\"%s is  palaidrome\" %string1)\n",
    "else:\n",
    "    print (\"%s is not palaidrome\" %string1)"
   ]
  },
  {
   "cell_type": "code",
   "execution_count": 44,
   "metadata": {},
   "outputs": [
    {
     "name": "stdout",
     "output_type": "stream",
     "text": [
      "Enter string: sdffds\n",
      "sdffds\n",
      "sdffds\n",
      "palidrome\n"
     ]
    }
   ],
   "source": [
    "#check whetehr a string is a palidrome by providing input\n",
    "string_1 = raw_input('Enter string: ')\n",
    "rev_string1 = string_1[::-1]\n",
    "print string_1\n",
    "print rev_string1\n",
    "if string_1 == rev_string1:\n",
    "    print \"palidrome\"\n",
    "else:\n",
    "    print \"not palodrome\""
   ]
  },
  {
   "cell_type": "code",
   "execution_count": 30,
   "metadata": {},
   "outputs": [
    {
     "name": "stdout",
     "output_type": "stream",
     "text": [
      "2004 is not a leap year\n"
     ]
    }
   ],
   "source": [
    "#check whether the year is leap year\n",
    "x = 2004\n",
    "if (x%4) == 0:\n",
    "    if (x%100) == 0:\n",
    "        if (x%400) ==0:\n",
    "            print (\"%s is a leap year\" %x)\n",
    "        else:\n",
    "            print (\"%s is a not leap year\" %x)\n",
    "    else:\n",
    "         print (\"%s is not a leap year\" %x)\n",
    "else:\n",
    "     print (\"%s is not a leap year\" %x)"
   ]
  },
  {
   "cell_type": "code",
   "execution_count": 32,
   "metadata": {},
   "outputs": [
    {
     "name": "stdout",
     "output_type": "stream",
     "text": [
      "Enter a year2010\n",
      "2010 is not a leap year\n"
     ]
    }
   ],
   "source": [
    "#check whether the year is leap year by providing input dynamically\n",
    "x = int(input(\"Enter a year\"))\n",
    "if (x%4) == 0:\n",
    "    if (x%100) == 0:\n",
    "        if (x%400) ==0:\n",
    "            print (\"%s is a leap year\" %x)\n",
    "        else:\n",
    "            print (\"%s is a not leap year\" %x)\n",
    "    else:\n",
    "         print (\"%s is not a leap year\" %x)\n",
    "else:\n",
    "     print (\"%s is not a leap year\" %x)"
   ]
  },
  {
   "cell_type": "code",
   "execution_count": 43,
   "metadata": {},
   "outputs": [
    {
     "name": "stdout",
     "output_type": "stream",
     "text": [
      "Enter string: ded\n",
      "ded\n",
      "ded\n",
      "palidrome\n"
     ]
    }
   ],
   "source": []
  }
 ],
 "metadata": {
  "kernelspec": {
   "display_name": "Python 2",
   "language": "python",
   "name": "python2"
  },
  "language_info": {
   "codemirror_mode": {
    "name": "ipython",
    "version": 2
   },
   "file_extension": ".py",
   "mimetype": "text/x-python",
   "name": "python",
   "nbconvert_exporter": "python",
   "pygments_lexer": "ipython2",
   "version": "2.7.14"
  }
 },
 "nbformat": 4,
 "nbformat_minor": 2
}
