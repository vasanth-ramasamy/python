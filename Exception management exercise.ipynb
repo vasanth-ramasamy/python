{
 "cells": [
  {
   "cell_type": "code",
   "execution_count": 2,
   "metadata": {},
   "outputs": [
    {
     "name": "stdout",
     "output_type": "stream",
     "text": [
      "Typr error captured\n",
      "Exception occurred\n"
     ]
    }
   ],
   "source": [
    "try:\n",
    "    for i in ['a','b','c']:\n",
    "        print i**2\n",
    "except TypeError:\n",
    "    print \"Typr error captured\"\n"
   ]
  },
  {
   "cell_type": "code",
   "execution_count": 5,
   "metadata": {},
   "outputs": [
    {
     "name": "stdout",
     "output_type": "stream",
     "text": [
      "ZeroDivisionError occurred\n",
      "Exception occurred\n"
     ]
    }
   ],
   "source": [
    "try:\n",
    "    x = 5\n",
    "    y = 0\n",
    "\n",
    "    z = x/y\n",
    "except ZeroDivisionError:\n",
    "    print \"ZeroDivisionError occurred\"\n",
    "\n",
    "finally:\n",
    "    print \"Exception occurred\""
   ]
  },
  {
   "cell_type": "code",
   "execution_count": 8,
   "metadata": {},
   "outputs": [],
   "source": [
    "#Write a function that asks for an integer and prints the square of it. Use a while loop with a try,except, else block to account for incorrect inputs.\n",
    "def square(n):\n",
    "    try:\n",
    "        n= int(raw_input(\"Enter a number:\"))\n",
    "    except TypeError:\n",
    "         print \"Error!! expecting a number!\"\n",
    "    except ValueError:\n",
    "        print \"Error!! enter a valid integer\"\n",
    "        \n",
    "    return n**2\n",
    "    \n",
    "square(2)"
   ]
  },
  {
   "cell_type": "code",
   "execution_count": null,
   "metadata": {},
   "outputs": [],
   "source": []
  }
 ],
 "metadata": {
  "kernelspec": {
   "display_name": "Python 2",
   "language": "python",
   "name": "python2"
  },
  "language_info": {
   "codemirror_mode": {
    "name": "ipython",
    "version": 2
   },
   "file_extension": ".py",
   "mimetype": "text/x-python",
   "name": "python",
   "nbconvert_exporter": "python",
   "pygments_lexer": "ipython2",
   "version": "2.7.14"
  }
 },
 "nbformat": 4,
 "nbformat_minor": 2
}
