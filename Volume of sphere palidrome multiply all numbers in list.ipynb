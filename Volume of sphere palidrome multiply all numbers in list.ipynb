{
 "cells": [
  {
   "cell_type": "code",
   "execution_count": 5,
   "metadata": {},
   "outputs": [
    {
     "name": "stdout",
     "output_type": "stream",
     "text": [
      "enter radius4\n",
      "('The volume of the sphere is ', 267.94666666666666)\n"
     ]
    }
   ],
   "source": [
    "#find the volume of the sphere when radius is input\n",
    "pi = 3.14\n",
    "r = int(input(\"enter radius\"))\n",
    "v= 4.0/3.0*pi*r**3\n",
    "print(\"The volume of the sphere is \", v)"
   ]
  },
  {
   "cell_type": "code",
   "execution_count": 26,
   "metadata": {},
   "outputs": [
    {
     "name": "stdout",
     "output_type": "stream",
     "text": [
      "enter a number8\n",
      "2143.57333333\n"
     ]
    }
   ],
   "source": [
    "#find the volume of the sphere when radius is input with define\n",
    "def volumeofsphere(radius):\n",
    "    pi = 3.14\n",
    "    volume = 4.0/3.0*pi*radius*radius*radius\n",
    "    return volume\n",
    "\n",
    "num = int(input(\"enter a number\"))\n",
    "vos = volumeofsphere (num)\n",
    "print vos"
   ]
  },
  {
   "cell_type": "code",
   "execution_count": 27,
   "metadata": {},
   "outputs": [
    {
     "name": "stdout",
     "output_type": "stream",
     "text": [
      "enter a stringtgtg\n",
      "not palidrome\n"
     ]
    }
   ],
   "source": [
    "#check whether the stirng is palidrome or not using functions\n",
    "def palindrome(string1):\n",
    "    string1 = string1[::-1]\n",
    "    return string1\n",
    "\n",
    "n = raw_input(\"enter a string\")\n",
    "if n==palindrome(n):\n",
    "    print(\"palidrome\")\n",
    "else:\n",
    "    print(\"not palidrome\")"
   ]
  },
  {
   "cell_type": "code",
   "execution_count": 38,
   "metadata": {},
   "outputs": [
    {
     "name": "stdout",
     "output_type": "stream",
     "text": [
      "120\n",
      "27\n"
     ]
    }
   ],
   "source": [
    "#create a function to multiply all the numbers when the list is numbers\n",
    "def multiplylist(list):\n",
    "    result = 1\n",
    "    for x in list:\n",
    "        result = result * x\n",
    "    return result\n",
    "\n",
    "list1 = [1,2,3,4,5]\n",
    "list2 = [3,1,3,1,3]\n",
    "result = multiplylist(list1)\n",
    "result1 = multiplylist(list2)\n",
    "print result\n",
    "print result1\n"
   ]
  }
 ],
 "metadata": {
  "kernelspec": {
   "display_name": "Python 2",
   "language": "python",
   "name": "python2"
  },
  "language_info": {
   "codemirror_mode": {
    "name": "ipython",
    "version": 2
   },
   "file_extension": ".py",
   "mimetype": "text/x-python",
   "name": "python",
   "nbconvert_exporter": "python",
   "pygments_lexer": "ipython2",
   "version": "2.7.14"
  }
 },
 "nbformat": 4,
 "nbformat_minor": 2
}
