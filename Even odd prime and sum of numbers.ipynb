{
 "cells": [
  {
   "cell_type": "code",
   "execution_count": 2,
   "metadata": {},
   "outputs": [
    {
     "name": "stdout",
     "output_type": "stream",
     "text": [
      "2\n",
      "4\n",
      "6\n",
      "8\n"
     ]
    }
   ],
   "source": [
    "#print even number between 1 and 10 using for\n",
    "for i in range(1, 10):\n",
    "    if (i%2)==0:\n",
    "        print (i)\n",
    "        i = i+1"
   ]
  },
  {
   "cell_type": "code",
   "execution_count": 4,
   "metadata": {},
   "outputs": [
    {
     "name": "stdout",
     "output_type": "stream",
     "text": [
      "2\n",
      "4\n",
      "6\n",
      "8\n",
      "10\n"
     ]
    }
   ],
   "source": [
    "#print even number between 1 and 10 using while\n",
    "i=0\n",
    "while i<10:\n",
    "    i = i+2\n",
    "    print (i)"
   ]
  },
  {
   "cell_type": "code",
   "execution_count": 6,
   "metadata": {},
   "outputs": [
    {
     "name": "stdout",
     "output_type": "stream",
     "text": [
      "0\n",
      "2\n",
      "4\n",
      "6\n",
      "8\n"
     ]
    }
   ],
   "source": [
    "#print even number between 1 and 10 using while and if\n",
    "x= 0\n",
    "while x <10:\n",
    "    if (x%2) == 0:\n",
    "        print (x)\n",
    "    x= x+1"
   ]
  },
  {
   "cell_type": "code",
   "execution_count": 2,
   "metadata": {},
   "outputs": [
    {
     "name": "stdout",
     "output_type": "stream",
     "text": [
      "ENter a number6\n",
      "Even\n"
     ]
    }
   ],
   "source": [
    "#find the number is even or odd providing run time input\n",
    "y = int(input(\"ENter a number\"))\n",
    "if (y%2)==0:\n",
    "    print (\"Even\")\n",
    "else:\n",
    "    print(\"ODD\")"
   ]
  },
  {
   "cell_type": "code",
   "execution_count": 3,
   "metadata": {},
   "outputs": [
    {
     "name": "stdout",
     "output_type": "stream",
     "text": [
      "1 is a odd number\n",
      "2 is a Even number\n",
      "3 is a odd number\n",
      "4 is a Even number\n",
      "5 is a odd number\n",
      "6 is a Even number\n",
      "7 is a odd number\n",
      "8 is a Even number\n",
      "9 is a odd number\n"
     ]
    }
   ],
   "source": [
    "#list the odd and even numbers between a range\n",
    "for y in range (1,10):\n",
    "    if (y%2) == 0:\n",
    "        print (\"%s is a Even number\" %y)\n",
    "    else:\n",
    "        print (\"%s is a odd number\" %y)\n"
   ]
  },
  {
   "cell_type": "code",
   "execution_count": 21,
   "metadata": {},
   "outputs": [
    {
     "name": "stdout",
     "output_type": "stream",
     "text": [
      "Enter any number:32\n",
      "(32, 'is not a prime number')\n"
     ]
    }
   ],
   "source": [
    "#check whether the number entered dynamically is prime using for and if\n",
    "number = int(input(\"Enter any number:\"))\n",
    "if number > 1:\n",
    "    for i in range (2, number):\n",
    "        if(number%i) == 0:\n",
    "            print(number, \"is not a prime number\")\n",
    "            break\n",
    "        else:\n",
    "            print(number, \"is prime number\")\n",
    "else:\n",
    "    print(number, \"is not a prime number\")"
   ]
  },
  {
   "cell_type": "code",
   "execution_count": 2,
   "metadata": {},
   "outputs": [
    {
     "name": "stdout",
     "output_type": "stream",
     "text": [
      "Enter any number:3\n",
      "(3, 'is prime number')\n"
     ]
    }
   ],
   "source": [
    "#check whether the number entered dynamically is prime using for and if\n",
    "number = int(input(\"Enter any number:\"))\n",
    "for i in range (2, number):\n",
    "        if(number%i) == 0:\n",
    "            print(number, \"is not a prime number\")\n",
    "            break\n",
    "else:\n",
    "    print(number, \"is prime number\")\n"
   ]
  },
  {
   "cell_type": "code",
   "execution_count": 34,
   "metadata": {},
   "outputs": [
    {
     "name": "stdout",
     "output_type": "stream",
     "text": [
      "('sum of first', 5, 'numbers is', 66)\n"
     ]
    }
   ],
   "source": [
    "#calculate the sum of a list of number\n",
    "x = (1,2,6,7,3,4,5,6,7,8,9)\n",
    "#z = 0\n",
    "count = 0\n",
    "for y in x:\n",
    "    z = z+y\n",
    "    count = count +1\n",
    "    if  count == 5:\n",
    "        break\n",
    "print (\"sum of first\",count,\"numbers is\",z)\n",
    "    \n",
    "    "
   ]
  }
 ],
 "metadata": {
  "kernelspec": {
   "display_name": "Python 2",
   "language": "python",
   "name": "python2"
  },
  "language_info": {
   "codemirror_mode": {
    "name": "ipython",
    "version": 2
   },
   "file_extension": ".py",
   "mimetype": "text/x-python",
   "name": "python",
   "nbconvert_exporter": "python",
   "pygments_lexer": "ipython2",
   "version": "2.7.14"
  }
 },
 "nbformat": 4,
 "nbformat_minor": 2
}
