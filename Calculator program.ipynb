{
 "cells": [
  {
   "cell_type": "code",
   "execution_count": 5,
   "metadata": {},
   "outputs": [
    {
     "name": "stdout",
     "output_type": "stream",
     "text": [
      "Enter the operation 1/2/3/4:\n",
      "1. Addition\n",
      "2 Subtraction\n",
      "3 Multiplication\n",
      "4 dicision\n",
      "enter choice 1/2/3/4:4\n",
      "Enter first number:2\n",
      "Enter second number:4\n",
      "0.5\n"
     ]
    }
   ],
   "source": [
    "#Calculator program\n",
    "\n",
    "def add(x,y):\n",
    "    z = x+y\n",
    "    return z\n",
    "\n",
    "def sub(x,y):\n",
    "    z = x-y\n",
    "    return z\n",
    "\n",
    "def mul(x,y):\n",
    "    z = x*y\n",
    "    return z\n",
    "\n",
    "def div(x,y):\n",
    "    z = x/y\n",
    "    return z\n",
    "\n",
    "print (\"Enter the operation 1/2/3/4:\")\n",
    "print (\"1. Addition\")\n",
    "print (\"2 Subtraction\")\n",
    "print (\"3 Multiplication\")\n",
    "print (\"4 dicision\")\n",
    "\n",
    "choice = input(\"enter choice 1/2/3/4:\")\n",
    "\n",
    "num1 = float(input(\"Enter first number:\"))\n",
    "num2 = float(input(\"Enter second number:\"))\n",
    "\n",
    "if choice == 1:\n",
    "    m = add(num1,num2)\n",
    "    print m\n",
    "\n",
    "if choice == 2:\n",
    "    n = sub(num1,num2)\n",
    "    print n\n",
    "    \n",
    "if choice == 3:\n",
    "    o = mul(num1,num2)\n",
    "    print o\n",
    "    \n",
    "if choice == 4:\n",
    "    p = div(num1,num2)\n",
    "    print p\n",
    "\n",
    "    \n"
   ]
  }
 ],
 "metadata": {
  "kernelspec": {
   "display_name": "Python 2",
   "language": "python",
   "name": "python2"
  },
  "language_info": {
   "codemirror_mode": {
    "name": "ipython",
    "version": 2
   },
   "file_extension": ".py",
   "mimetype": "text/x-python",
   "name": "python",
   "nbconvert_exporter": "python",
   "pygments_lexer": "ipython2",
   "version": "2.7.14"
  }
 },
 "nbformat": 4,
 "nbformat_minor": 2
}
