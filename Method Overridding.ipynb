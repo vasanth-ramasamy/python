{
 "cells": [
  {
   "cell_type": "code",
   "execution_count": 1,
   "metadata": {},
   "outputs": [
    {
     "name": "stdout",
     "output_type": "stream",
     "text": [
      "2+3j\n",
      "4+5j\n",
      "Addition\n",
      "6+8j\n",
      "4-5j\n",
      "2-3j\n",
      "Subtraction\n",
      "2-2j\n",
      "4-5j\n",
      "2-3j\n",
      "Addition\n",
      "6+8j\n",
      "9-10j\n",
      "6-2j\n",
      "Subtraction\n",
      "3-8j\n"
     ]
    }
   ],
   "source": [
    "#Method overridding 'addition'\n",
    "\n",
    "class realNumber(object):\n",
    "    def __init__(self,i,j):\n",
    "        self.i =i\n",
    "        self.j=j\n",
    "    def __str__(self):\n",
    "        return str(self.i)+\"+\"+str(self.j)+'j'\n",
    "    def __add__(self,other):\n",
    "        return str(self.i+other.i)+\"+\"+str(self.j+other.j)+'j'\n",
    "\n",
    "r1=realNumber(2,3)\n",
    "r2=realNumber(4,5)\n",
    "\n",
    "print r1\n",
    "print r2\n",
    "print \"Addition\"\n",
    "print r1+r2\n",
    "\n",
    "\n",
    "\n",
    "#Method overridding 'subtraction'\n",
    "class realNumber(object):\n",
    "    def __init__(self,i,j):\n",
    "        self.i =i\n",
    "        self.j=j\n",
    "    def __str__(self):\n",
    "        return str(self.i)+\"-\"+str(self.j)+'j'\n",
    "    def __sub__(self,other):\n",
    "        return str(self.i-other.i)+\"-\"+str(self.j-other.j)+'j'\n",
    "\n",
    "r2=realNumber(2,3)\n",
    "r1=realNumber(4,5)\n",
    "\n",
    "print r1\n",
    "print r2\n",
    "print \"Subtraction\"\n",
    "print r1-r2\n",
    "\n",
    "\n",
    "#Method overridding 'Addition' & 'subtraction'\n",
    "class realNumber(object):\n",
    "    def __init__(self,i,j):\n",
    "        self.i =i\n",
    "        self.j=j\n",
    "    def __str__(self):\n",
    "        return str(self.i)+\"-\"+str(self.j)+'j'\n",
    "    def __sub__(self,other):\n",
    "        return str(self.i-other.i)+\"-\"+str(self.j-other.j)+'j'\n",
    "    def __add__(self,other):\n",
    "        return str(self.i+other.i)+\"+\"+str(self.j+other.j)+'j'\n",
    "\n",
    "r2=realNumber(2,3)\n",
    "r1=realNumber(4,5)\n",
    "r3=realNumber(9,10)\n",
    "r4=realNumber(6,2)\n",
    "\n",
    "print r1\n",
    "print r2\n",
    "print \"Addition\"\n",
    "print r1+r2\n",
    "print r3\n",
    "print r4\n",
    "print \"Subtraction\"\n",
    "print r3-r4"
   ]
  },
  {
   "cell_type": "code",
   "execution_count": null,
   "metadata": {},
   "outputs": [],
   "source": []
  }
 ],
 "metadata": {
  "kernelspec": {
   "display_name": "Python 2",
   "language": "python",
   "name": "python2"
  },
  "language_info": {
   "codemirror_mode": {
    "name": "ipython",
    "version": 2
   },
   "file_extension": ".py",
   "mimetype": "text/x-python",
   "name": "python",
   "nbconvert_exporter": "python",
   "pygments_lexer": "ipython2",
   "version": "2.7.14"
  }
 },
 "nbformat": 4,
 "nbformat_minor": 2
}
